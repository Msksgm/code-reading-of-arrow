{
 "cells": [
  {
   "cell_type": "raw",
   "source": [],
   "metadata": {
    "collapsed": false
   }
  },
  {
   "cell_type": "code",
   "execution_count": 7,
   "metadata": {
    "collapsed": true,
    "ExecuteTime": {
     "end_time": "2024-03-26T22:09:24.030973Z",
     "start_time": "2024-03-26T22:09:23.968902Z"
    }
   },
   "outputs": [
    {
     "name": "stderr",
     "output_type": "stream",
     "text": [
      "Line_7.jupyter.kts (1:1 - 42) @OptIn without any arguments has no effect\n",
      "Line_7.jupyter.kts (1:13 - 34) Unresolved reference: ExperimentalContracts\n",
      "Line_7.jupyter.kts (1:13 - 41) An annotation argument must be a compile-time constant\n",
      "Line_7.jupyter.kts (7:5 - 13) Modifier 'internal' is not applicable inside 'interface'\n",
      "Line_7.jupyter.kts (9:5 - 13) Modifier 'internal' is not applicable inside 'interface'\n",
      "Line_7.jupyter.kts (12:9 - 17) Contracts are not allowed for open or override functions\n",
      "Line_7.jupyter.kts (12:9 - 17) This declaration needs opt-in. Its usage must be marked with '@kotlin.contracts.ExperimentalContracts' or '@OptIn(kotlin.contracts.ExperimentalContracts::class)'\n",
      "Line_7.jupyter.kts (13:13 - 20) This declaration needs opt-in. Its usage must be marked with '@kotlin.contracts.ExperimentalContracts' or '@OptIn(kotlin.contracts.ExperimentalContracts::class)'\n",
      "Line_7.jupyter.kts (13:27 - 34) This declaration needs opt-in. Its usage must be marked with '@kotlin.contracts.ExperimentalContracts' or '@OptIn(kotlin.contracts.ExperimentalContracts::class)'\n",
      "Line_7.jupyter.kts (13:51 - 58) Cannot check for instance of erased type: Line_7_jupyter.Either.Left<A>\n",
      "Line_7.jupyter.kts (14:13 - 20) This declaration needs opt-in. Its usage must be marked with '@kotlin.contracts.ExperimentalContracts' or '@OptIn(kotlin.contracts.ExperimentalContracts::class)'\n",
      "Line_7.jupyter.kts (14:28 - 35) This declaration needs opt-in. Its usage must be marked with '@kotlin.contracts.ExperimentalContracts' or '@OptIn(kotlin.contracts.ExperimentalContracts::class)'\n",
      "Line_7.jupyter.kts (16:32 - 39) Cannot check for instance of erased type: Line_7_jupyter.Either.Left<A>\n",
      "Line_7.jupyter.kts (19:57 - 64) Unresolved reference: Eihther\n",
      "Line_7.jupyter.kts (20:9 - 17) 'isLeft' overrides nothing\n",
      "Line_7.jupyter.kts (21:9 - 17) 'isRight' overrides nothing\n",
      "Line_7.jupyter.kts (26:60 - 70) Type mismatch: inferred type is Line_7_jupyter.Either.Left<Unit> but Line_7_jupyter.Either<Unit, Nothing> was expected\n",
      "Line_7.jupyter.kts (26:60 - 70) Type mismatch: inferred type is Line_7_jupyter.Either.Left<Unit> but Line_7_jupyter.Either<Unit, Nothing> was expected\n",
      "Line_7.jupyter.kts (30:76 - 78) This class does not have a constructor"
     ]
    }
   ],
   "source": [
    "@file:OptIn(ExperimentalContracts::class)\n",
    "\n",
    "import kotlin.contracts.contract\n",
    "\n",
    "public sealed interface Either<out A, out B> {\n",
    "    \n",
    "    internal abstract val isRight: Boolean\n",
    "    \n",
    "    internal abstract val isLeft: Boolean\n",
    "    \n",
    "    public fun isLeft(): Boolean {\n",
    "        contract { \n",
    "            returns(true) implies (this@Either is Left<A>)\n",
    "            returns(false) implies (this@Either is Right<B>)\n",
    "         }\n",
    "         return this@Either is Left<A>\n",
    "    }\n",
    "    \n",
    "    public class Left<out A> constructor(val value: A): Eihther<A, Nothing>() {\n",
    "        override val isLeft = true\n",
    "        override val isRight = false\n",
    "        \n",
    "        override fun toString(): String = \"Either.Left($value)\"\n",
    "        \n",
    "        public companion object {\n",
    "            internal val leftUnit: Either<Unit, Nothing> = Left(Unit)\n",
    "        }\n",
    "    }\n",
    "    \n",
    "    public class Right<out B> constructor(val value: B): Either<Nothing, B>() {\n",
    "        override val isLeft = false\n",
    "        override val isRight = true\n",
    "        \n",
    "        override fun toString(): String = \"Either.Right($value)\"\n",
    "        \n",
    "        public companion object {\n",
    "            internal val rightUnit: Either<Nothing, Unit> = Right(Unit)\n",
    "        }\n",
    "    }\n",
    "}"
   ]
  },
  {
   "cell_type": "code",
   "execution_count": 3,
   "outputs": [
    {
     "name": "stdout",
     "output_type": "stream",
     "text": [
      "fuga: 10\n"
     ]
    }
   ],
   "source": [
    "val fuga = 10\n",
    "println(\"fuga: $fuga\")"
   ],
   "metadata": {
    "collapsed": false,
    "ExecuteTime": {
     "end_time": "2024-03-26T22:02:31.838891Z",
     "start_time": "2024-03-26T22:02:31.719206Z"
    }
   }
  },
  {
   "cell_type": "code",
   "execution_count": null,
   "outputs": [],
   "source": [],
   "metadata": {
    "collapsed": false
   }
  }
 ],
 "metadata": {
  "kernelspec": {
   "display_name": "Kotlin",
   "language": "kotlin",
   "name": "kotlin"
  },
  "language_info": {
   "name": "kotlin",
   "version": "1.9.0",
   "mimetype": "text/x-kotlin",
   "file_extension": ".kt",
   "pygments_lexer": "kotlin",
   "codemirror_mode": "text/x-kotlin",
   "nbconvert_exporter": ""
  }
 },
 "nbformat": 4,
 "nbformat_minor": 0
}
